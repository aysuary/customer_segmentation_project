{
 "cells": [
  {
   "cell_type": "markdown",
   "id": "21303606-299c-43a8-9a56-0329b54477bb",
   "metadata": {},
   "source": [
    "# <font color='blue'> CUSTOMER SEGMENTATION"
   ]
  },
  {
   "cell_type": "code",
   "execution_count": 1,
   "id": "d9f78cf8-f04b-4b2b-aa96-5ee32ca85120",
   "metadata": {},
   "outputs": [],
   "source": [
    "#download necessary libraries\n",
    "\n",
    "import psycopg2\n",
    "import pandas as pd\n",
    "import matplotlib.pyplot as plt\n",
    "import seaborn as sns\n",
    "from datetime import datetime\n",
    "from sklearn.preprocessing import MinMaxScaler\n"
   ]
  },
  {
   "cell_type": "code",
   "execution_count": 2,
   "id": "5d2cc7e9-edf1-4603-ade5-1656b5a4e788",
   "metadata": {},
   "outputs": [],
   "source": [
    "import warnings\n",
    "warnings.filterwarnings(\"ignore\")"
   ]
  },
  {
   "cell_type": "code",
   "execution_count": 3,
   "id": "5508c393-dfe6-43f5-af9a-899a9a10efbc",
   "metadata": {},
   "outputs": [],
   "source": [
    "import sqlite3\n",
    "\n",
    "# connect to sqlite - make sure you have download the database from here into your data folder\n",
    "# and you have created your notebooks in your notebooks folder\n",
    "# otherwise adjust the file path accordingly\n",
    "\n",
    "connect = sqlite3.connect(\"../data/bootcamp_db\")"
   ]
  },
  {
   "cell_type": "code",
   "execution_count": 4,
   "id": "10b5b979-e0fc-4bc3-8df6-a65ae83450fe",
   "metadata": {},
   "outputs": [
    {
     "data": {
      "text/plain": [
       "<sqlite3.Connection at 0x17af41b70>"
      ]
     },
     "execution_count": 4,
     "metadata": {},
     "output_type": "execute_result"
    }
   ],
   "source": [
    "connect"
   ]
  },
  {
   "cell_type": "code",
   "execution_count": 5,
   "id": "81a57eec-5961-40eb-a3a2-f7b6457c2266",
   "metadata": {},
   "outputs": [],
   "source": [
    "#check the table\n",
    "query= \"\"\"\n",
    "select *\n",
    "from online_transactions_fixed ; \n",
    "\n",
    "\"\"\"\n",
    "otc=pd.read_sql(query,connect)\n"
   ]
  },
  {
   "cell_type": "code",
   "execution_count": 6,
   "id": "dae23efc-48dd-4826-855b-3a0a734020be",
   "metadata": {},
   "outputs": [
    {
     "data": {
      "text/html": [
       "<div>\n",
       "<style scoped>\n",
       "    .dataframe tbody tr th:only-of-type {\n",
       "        vertical-align: middle;\n",
       "    }\n",
       "\n",
       "    .dataframe tbody tr th {\n",
       "        vertical-align: top;\n",
       "    }\n",
       "\n",
       "    .dataframe thead th {\n",
       "        text-align: right;\n",
       "    }\n",
       "</style>\n",
       "<table border=\"1\" class=\"dataframe\">\n",
       "  <thead>\n",
       "    <tr style=\"text-align: right;\">\n",
       "      <th></th>\n",
       "      <th>invoice</th>\n",
       "      <th>stock_code</th>\n",
       "      <th>description</th>\n",
       "      <th>quantity</th>\n",
       "      <th>invoice_date</th>\n",
       "      <th>price</th>\n",
       "      <th>customer_id</th>\n",
       "      <th>country</th>\n",
       "      <th>total_order_value</th>\n",
       "    </tr>\n",
       "  </thead>\n",
       "  <tbody>\n",
       "    <tr>\n",
       "      <th>0</th>\n",
       "      <td>536373</td>\n",
       "      <td>82494L</td>\n",
       "      <td>WOODEN FRAME ANTIQUE WHITE</td>\n",
       "      <td>6</td>\n",
       "      <td>2010-12-01T09:02:00</td>\n",
       "      <td>2.55</td>\n",
       "      <td>u1785</td>\n",
       "      <td>United Kingdom</td>\n",
       "      <td>15.30</td>\n",
       "    </tr>\n",
       "    <tr>\n",
       "      <th>1</th>\n",
       "      <td>536381</td>\n",
       "      <td>37444A</td>\n",
       "      <td>YELLOW BREAKFAST CUP AND SAUCER</td>\n",
       "      <td>1</td>\n",
       "      <td>2010-12-01T09:41:00</td>\n",
       "      <td>2.95</td>\n",
       "      <td>u15311</td>\n",
       "      <td>United Kingdom</td>\n",
       "      <td>2.95</td>\n",
       "    </tr>\n",
       "    <tr>\n",
       "      <th>2</th>\n",
       "      <td>536381</td>\n",
       "      <td>22438</td>\n",
       "      <td>BALLOON ART MAKE YOUR OWN FLOWERS</td>\n",
       "      <td>1</td>\n",
       "      <td>2010-12-01T09:41:00</td>\n",
       "      <td>1.95</td>\n",
       "      <td>u15311</td>\n",
       "      <td>United Kingdom</td>\n",
       "      <td>1.95</td>\n",
       "    </tr>\n",
       "  </tbody>\n",
       "</table>\n",
       "</div>"
      ],
      "text/plain": [
       "  invoice stock_code                        description  quantity  \\\n",
       "0  536373     82494L        WOODEN FRAME ANTIQUE WHITE          6   \n",
       "1  536381     37444A    YELLOW BREAKFAST CUP AND SAUCER         1   \n",
       "2  536381      22438  BALLOON ART MAKE YOUR OWN FLOWERS         1   \n",
       "\n",
       "          invoice_date  price customer_id         country  total_order_value  \n",
       "0  2010-12-01T09:02:00   2.55       u1785  United Kingdom              15.30  \n",
       "1  2010-12-01T09:41:00   2.95      u15311  United Kingdom               2.95  \n",
       "2  2010-12-01T09:41:00   1.95      u15311  United Kingdom               1.95  "
      ]
     },
     "execution_count": 6,
     "metadata": {},
     "output_type": "execute_result"
    }
   ],
   "source": [
    "otc.head(n=3)"
   ]
  },
  {
   "cell_type": "markdown",
   "id": "095dddf0-f032-4c34-bf02-64c3e620a6b0",
   "metadata": {},
   "source": [
    "\n",
    "## 1.RFM calculation\n",
    "\n",
    "In customer segmentation, one common approach is to use RFM analysis.\n",
    "- R= Recency\n",
    "- F= Frequency\n",
    "- M=monetory\n",
    "\n",
    "**Recency (R):** Recency refers to how recently a customer has made a purchase. It measures the time elapsed since the customer's last purchase. Customers who have made a purchase more recently are generally considered **more engaged and potentially more valuable.**\n",
    "A higher recency value means that customer hasn't made a purchase recently, which typically indicates lower engagement or activity.\n",
    "\n",
    "**Frequency (F):** Frequency refers to how often a customer makes purchases. It measures the number of times a customer has made a purchase within a specific period. Customers who make purchases more frequently are typically **more loyal and engaged with the brand.**\n",
    "\n",
    "**Monetary Value (M):** Monetary value refers to the total amount of money spent by a customer on purchases. It measures the total value of all transactions made by the customer. Customers who spend more money are often considered **more valuable to the business.**\n"
   ]
  },
  {
   "cell_type": "code",
   "execution_count": 7,
   "id": "1d203c08-23f5-4653-8d25-a96e94304581",
   "metadata": {},
   "outputs": [],
   "source": [
    "#When was the first and last purchase?\n",
    "query2=\"\"\"\n",
    "select min(invoice_date) as first_purchase,\n",
    "max(invoice_date) as last_purchase\n",
    "from online_transactions_fixed \"\"\""
   ]
  },
  {
   "cell_type": "code",
   "execution_count": 8,
   "id": "5167f049-5a61-46d2-ade3-dc8e3750ecff",
   "metadata": {},
   "outputs": [
    {
     "data": {
      "text/html": [
       "<div>\n",
       "<style scoped>\n",
       "    .dataframe tbody tr th:only-of-type {\n",
       "        vertical-align: middle;\n",
       "    }\n",
       "\n",
       "    .dataframe tbody tr th {\n",
       "        vertical-align: top;\n",
       "    }\n",
       "\n",
       "    .dataframe thead th {\n",
       "        text-align: right;\n",
       "    }\n",
       "</style>\n",
       "<table border=\"1\" class=\"dataframe\">\n",
       "  <thead>\n",
       "    <tr style=\"text-align: right;\">\n",
       "      <th></th>\n",
       "      <th>first_purchase</th>\n",
       "      <th>last_purchase</th>\n",
       "    </tr>\n",
       "  </thead>\n",
       "  <tbody>\n",
       "    <tr>\n",
       "      <th>0</th>\n",
       "      <td>2010-12-01T08:26:00</td>\n",
       "      <td>2011-12-09T12:50:00</td>\n",
       "    </tr>\n",
       "  </tbody>\n",
       "</table>\n",
       "</div>"
      ],
      "text/plain": [
       "        first_purchase        last_purchase\n",
       "0  2010-12-01T08:26:00  2011-12-09T12:50:00"
      ]
     },
     "execution_count": 8,
     "metadata": {},
     "output_type": "execute_result"
    }
   ],
   "source": [
    "pd.read_sql(query2,connect)"
   ]
  },
  {
   "cell_type": "markdown",
   "id": "dc60a26f-c907-42dc-bbb7-96b60db859d2",
   "metadata": {},
   "source": [
    "#### <font color='blue'> Recency:customers that purchased recently\n"
   ]
  },
  {
   "cell_type": "code",
   "execution_count": 9,
   "id": "16a9f200-4d99-423f-a73b-486dee1e19b6",
   "metadata": {},
   "outputs": [
    {
     "name": "stdout",
     "output_type": "stream",
     "text": [
      "<class 'pandas.core.frame.DataFrame'>\n",
      "RangeIndex: 399841 entries, 0 to 399840\n",
      "Data columns (total 9 columns):\n",
      " #   Column             Non-Null Count   Dtype  \n",
      "---  ------             --------------   -----  \n",
      " 0   invoice            399841 non-null  object \n",
      " 1   stock_code         399841 non-null  object \n",
      " 2   description        399841 non-null  object \n",
      " 3   quantity           399841 non-null  int64  \n",
      " 4   invoice_date       399841 non-null  object \n",
      " 5   price              399841 non-null  float64\n",
      " 6   customer_id        399841 non-null  object \n",
      " 7   country            399841 non-null  object \n",
      " 8   total_order_value  399841 non-null  float64\n",
      "dtypes: float64(2), int64(1), object(6)\n",
      "memory usage: 27.5+ MB\n"
     ]
    }
   ],
   "source": [
    "#check the type of invoice_date\n",
    "otc.info()"
   ]
  },
  {
   "cell_type": "code",
   "execution_count": 10,
   "id": "6ff7e459-3ce3-434e-8249-96c3759d0ec7",
   "metadata": {},
   "outputs": [],
   "source": [
    "#convert invoice_date type to datetime\n",
    "\n",
    "otc['invoice_date'] = pd.to_datetime(otc['invoice_date'])"
   ]
  },
  {
   "cell_type": "code",
   "execution_count": 11,
   "id": "2c31442e-e36c-48e7-9ddb-53d2a1971838",
   "metadata": {},
   "outputs": [
    {
     "data": {
      "text/plain": [
       "Timestamp('2011-12-09 12:50:00')"
      ]
     },
     "execution_count": 11,
     "metadata": {},
     "output_type": "execute_result"
    }
   ],
   "source": [
    "#Since this transaction was in 2011 take last purchase date as current date. \n",
    "##(you can add +1 day to avoid zero value in coming recency calculation)\n",
    "current_date = otc['invoice_date'].max()\n",
    "current_date"
   ]
  },
  {
   "cell_type": "code",
   "execution_count": 12,
   "id": "c1a6f9f9-5daf-46c8-b095-476c50002755",
   "metadata": {},
   "outputs": [
    {
     "name": "stdout",
     "output_type": "stream",
     "text": [
      "customer_id\n",
      "u12346   2011-01-18 10:17:00\n",
      "u12347   2011-12-07 15:52:00\n",
      "u12348   2011-09-25 13:13:00\n",
      "u12349   2011-11-21 09:51:00\n",
      "u1235    2011-02-02 16:01:00\n",
      "                 ...        \n",
      "u1828    2011-03-07 09:52:00\n",
      "u18281   2011-06-12 10:53:00\n",
      "u18282   2011-12-02 11:43:00\n",
      "u18283   2011-12-06 12:02:00\n",
      "u18287   2011-10-28 09:29:00\n",
      "Name: invoice_date, Length: 4363, dtype: datetime64[ns]\n"
     ]
    }
   ],
   "source": [
    "#calculate the date of the customer's last purchase time\n",
    "recent_purchased_date=otc.groupby('customer_id')['invoice_date'].max()\n",
    "print(recent_purchased_date)"
   ]
  },
  {
   "cell_type": "code",
   "execution_count": 13,
   "id": "8f5c0a56-1c65-44d0-b50b-8010aa318059",
   "metadata": {},
   "outputs": [
    {
     "name": "stdout",
     "output_type": "stream",
     "text": [
      "customer_id\n",
      "u12346    325\n",
      "u12347      1\n",
      "u12348     74\n",
      "u12349     18\n",
      "u1235     309\n",
      "         ... \n",
      "u1828     277\n",
      "u18281    180\n",
      "u18282      7\n",
      "u18283      3\n",
      "u18287     42\n",
      "Name: invoice_date, Length: 4363, dtype: int64\n"
     ]
    }
   ],
   "source": [
    "#Calculate the difference between the current date and the date of the customer's last purchase\n",
    "recency = (current_date - recent_purchased_date).dt.days\n",
    "print(recency)"
   ]
  },
  {
   "cell_type": "code",
   "execution_count": 14,
   "id": "f0ac1f4d-2c87-40e7-bbf7-4e73bed1b836",
   "metadata": {},
   "outputs": [
    {
     "data": {
      "text/plain": [
       "customer_id\n",
       "u16794      0\n",
       "u12985      0\n",
       "u17757      0\n",
       "u17754      0\n",
       "u13026      0\n",
       "         ... \n",
       "u13747    373\n",
       "u16583    373\n",
       "u17968    373\n",
       "u17908    373\n",
       "u18074    373\n",
       "Name: invoice_date, Length: 4363, dtype: int64"
      ]
     },
     "execution_count": 14,
     "metadata": {},
     "output_type": "execute_result"
    }
   ],
   "source": [
    "recency.sort_values(ascending=True)"
   ]
  },
  {
   "cell_type": "markdown",
   "id": "eee38a63-0b27-42dc-9ea5-34d065ad1595",
   "metadata": {},
   "source": [
    "#### <font color='blue'> Frequency:frequency of transactions based on unique stock codes "
   ]
  },
  {
   "cell_type": "code",
   "execution_count": 15,
   "id": "424d0583-fc14-4e29-ae92-b752e9c79492",
   "metadata": {},
   "outputs": [
    {
     "name": "stdout",
     "output_type": "stream",
     "text": [
      "customer_id\n",
      "u14911    1792\n",
      "u12748    1767\n",
      "u17841    1330\n",
      "u14096    1119\n",
      "u14298     884\n",
      "          ... \n",
      "u13703       1\n",
      "u16454       1\n",
      "u16462       1\n",
      "u18133       1\n",
      "u12346       1\n",
      "Name: stock_code, Length: 4363, dtype: int64\n"
     ]
    }
   ],
   "source": [
    "frequency = otc.groupby('customer_id')['stock_code'].nunique().sort_values(ascending=False)\n",
    "print(frequency)\n"
   ]
  },
  {
   "cell_type": "markdown",
   "id": "598120ed-237d-4ff6-8c78-5aafee359e27",
   "metadata": {},
   "source": [
    "#### <font color='blue'> Monetory : is sum up the total amount spent by each customer \n"
   ]
  },
  {
   "cell_type": "code",
   "execution_count": 16,
   "id": "41dbc80d-7f43-4881-a915-46d818b3404a",
   "metadata": {},
   "outputs": [
    {
     "name": "stdout",
     "output_type": "stream",
     "text": [
      "customer_id\n",
      "u14646    278778.02\n",
      "u18102    259657.30\n",
      "u1745     189575.53\n",
      "u14911    132893.24\n",
      "u12415    123638.18\n",
      "            ...    \n",
      "u12666      -227.44\n",
      "u16252      -295.09\n",
      "u16742      -464.90\n",
      "u15823      -811.86\n",
      "u14213     -1192.20\n",
      "Name: total_order_value, Length: 4363, dtype: float64\n"
     ]
    }
   ],
   "source": [
    "monetary = otc.groupby('customer_id')['total_order_value'].sum().sort_values(ascending=False)\n",
    "print(monetary)"
   ]
  },
  {
   "cell_type": "code",
   "execution_count": 17,
   "id": "4b603826-a4b9-4f89-80e2-31ffd513146a",
   "metadata": {},
   "outputs": [],
   "source": [
    "## Convert the Series to DataFrames\n",
    "\n",
    "monetary_df = monetary.reset_index()\n",
    "frequency_df = frequency.reset_index()\n",
    "recency_df = recency.reset_index()"
   ]
  },
  {
   "cell_type": "code",
   "execution_count": 18,
   "id": "76800cd6-3ec9-4c67-8d6f-b42cd869c672",
   "metadata": {},
   "outputs": [],
   "source": [
    "#merge the table with customer_id\n",
    "rfm_table = pd.merge(monetary_df, frequency_df, on='customer_id')\n",
    "rfm_table = pd.merge(rfm_table, recency_df, on='customer_id')\n",
    "rfm_table.columns = ['Customer_ID', 'Monetary', 'Frequency', 'Recency']"
   ]
  },
  {
   "cell_type": "code",
   "execution_count": 19,
   "id": "9dbad293-dab5-483f-90b5-8d9d6ac7c9ec",
   "metadata": {},
   "outputs": [
    {
     "name": "stdout",
     "output_type": "stream",
     "text": [
      "     Customer_ID   Monetary  Frequency  Recency\n",
      "0         u14646  278778.02        700        1\n",
      "1         u18102  259657.30        150        0\n",
      "2          u1745  189575.53        124        7\n",
      "3         u14911  132893.24       1792        0\n",
      "4         u12415  123638.18        443       23\n",
      "...          ...        ...        ...      ...\n",
      "4358      u12666    -227.44          2      358\n",
      "4359      u16252    -295.09         21      365\n",
      "4360      u16742    -464.90          3       46\n",
      "4361      u15823    -811.86         15      336\n",
      "4362      u14213   -1192.20          5      371\n",
      "\n",
      "[4363 rows x 4 columns]\n"
     ]
    }
   ],
   "source": [
    "print(rfm_table)"
   ]
  },
  {
   "cell_type": "code",
   "execution_count": 20,
   "id": "64cff84c-cd35-410f-885b-f07814518ce4",
   "metadata": {},
   "outputs": [
    {
     "data": {
      "text/html": [
       "<div>\n",
       "<style scoped>\n",
       "    .dataframe tbody tr th:only-of-type {\n",
       "        vertical-align: middle;\n",
       "    }\n",
       "\n",
       "    .dataframe tbody tr th {\n",
       "        vertical-align: top;\n",
       "    }\n",
       "\n",
       "    .dataframe thead th {\n",
       "        text-align: right;\n",
       "    }\n",
       "</style>\n",
       "<table border=\"1\" class=\"dataframe\">\n",
       "  <thead>\n",
       "    <tr style=\"text-align: right;\">\n",
       "      <th></th>\n",
       "      <th>Customer_ID</th>\n",
       "      <th>Monetary</th>\n",
       "      <th>Frequency</th>\n",
       "      <th>Recency</th>\n",
       "    </tr>\n",
       "  </thead>\n",
       "  <tbody>\n",
       "    <tr>\n",
       "      <th>0</th>\n",
       "      <td>u14646</td>\n",
       "      <td>278778.02</td>\n",
       "      <td>700</td>\n",
       "      <td>1</td>\n",
       "    </tr>\n",
       "    <tr>\n",
       "      <th>1</th>\n",
       "      <td>u18102</td>\n",
       "      <td>259657.30</td>\n",
       "      <td>150</td>\n",
       "      <td>0</td>\n",
       "    </tr>\n",
       "    <tr>\n",
       "      <th>2</th>\n",
       "      <td>u1745</td>\n",
       "      <td>189575.53</td>\n",
       "      <td>124</td>\n",
       "      <td>7</td>\n",
       "    </tr>\n",
       "    <tr>\n",
       "      <th>3</th>\n",
       "      <td>u14911</td>\n",
       "      <td>132893.24</td>\n",
       "      <td>1792</td>\n",
       "      <td>0</td>\n",
       "    </tr>\n",
       "    <tr>\n",
       "      <th>4</th>\n",
       "      <td>u12415</td>\n",
       "      <td>123638.18</td>\n",
       "      <td>443</td>\n",
       "      <td>23</td>\n",
       "    </tr>\n",
       "  </tbody>\n",
       "</table>\n",
       "</div>"
      ],
      "text/plain": [
       "  Customer_ID   Monetary  Frequency  Recency\n",
       "0      u14646  278778.02        700        1\n",
       "1      u18102  259657.30        150        0\n",
       "2       u1745  189575.53        124        7\n",
       "3      u14911  132893.24       1792        0\n",
       "4      u12415  123638.18        443       23"
      ]
     },
     "execution_count": 20,
     "metadata": {},
     "output_type": "execute_result"
    }
   ],
   "source": [
    "rfm_table.head()"
   ]
  },
  {
   "cell_type": "markdown",
   "id": "15beda18-2447-4364-b411-f90da97dda8e",
   "metadata": {},
   "source": [
    "## 2.Normalization of values \n",
    "- *Normalization* is the process of scaling the values to a standard range, typically between 0 and 1, to ensure that all the variables contribute equally to the analysis.\n",
    "\n"
   ]
  },
  {
   "cell_type": "markdown",
   "id": "d6c57edf-5509-4222-8acd-bc7d667718cc",
   "metadata": {},
   "source": [
    "### Option 1 : using MinMaxScaler\n",
    "- we need to download necessary libraries **from sklearn.preprocessing import MinMaxScaler** "
   ]
  },
  {
   "cell_type": "code",
   "execution_count": 21,
   "id": "cd29263f-2c20-47e5-8a1c-41a8dbee2d9c",
   "metadata": {},
   "outputs": [
    {
     "data": {
      "text/html": [
       "<div>\n",
       "<style scoped>\n",
       "    .dataframe tbody tr th:only-of-type {\n",
       "        vertical-align: middle;\n",
       "    }\n",
       "\n",
       "    .dataframe tbody tr th {\n",
       "        vertical-align: top;\n",
       "    }\n",
       "\n",
       "    .dataframe thead th {\n",
       "        text-align: right;\n",
       "    }\n",
       "</style>\n",
       "<table border=\"1\" class=\"dataframe\">\n",
       "  <thead>\n",
       "    <tr style=\"text-align: right;\">\n",
       "      <th></th>\n",
       "      <th>Monetary</th>\n",
       "      <th>Frequency</th>\n",
       "      <th>Recency</th>\n",
       "    </tr>\n",
       "    <tr>\n",
       "      <th>Customer_ID</th>\n",
       "      <th></th>\n",
       "      <th></th>\n",
       "      <th></th>\n",
       "    </tr>\n",
       "  </thead>\n",
       "  <tbody>\n",
       "    <tr>\n",
       "      <th>u14646</th>\n",
       "      <td>278778.02</td>\n",
       "      <td>700</td>\n",
       "      <td>1</td>\n",
       "    </tr>\n",
       "    <tr>\n",
       "      <th>u18102</th>\n",
       "      <td>259657.30</td>\n",
       "      <td>150</td>\n",
       "      <td>0</td>\n",
       "    </tr>\n",
       "    <tr>\n",
       "      <th>u1745</th>\n",
       "      <td>189575.53</td>\n",
       "      <td>124</td>\n",
       "      <td>7</td>\n",
       "    </tr>\n",
       "    <tr>\n",
       "      <th>u14911</th>\n",
       "      <td>132893.24</td>\n",
       "      <td>1792</td>\n",
       "      <td>0</td>\n",
       "    </tr>\n",
       "    <tr>\n",
       "      <th>u12415</th>\n",
       "      <td>123638.18</td>\n",
       "      <td>443</td>\n",
       "      <td>23</td>\n",
       "    </tr>\n",
       "  </tbody>\n",
       "</table>\n",
       "</div>"
      ],
      "text/plain": [
       "              Monetary  Frequency  Recency\n",
       "Customer_ID                               \n",
       "u14646       278778.02        700        1\n",
       "u18102       259657.30        150        0\n",
       "u1745        189575.53        124        7\n",
       "u14911       132893.24       1792        0\n",
       "u12415       123638.18        443       23"
      ]
     },
     "execution_count": 21,
     "metadata": {},
     "output_type": "execute_result"
    }
   ],
   "source": [
    "# Assuming you have the rfm_table DataFrame containing RFM values\n",
    "rfm_values = rfm_table.set_index('Customer_ID')\n",
    "rfm_values.head()"
   ]
  },
  {
   "cell_type": "code",
   "execution_count": 22,
   "id": "9b0da5d8-15fb-40fa-8847-eab1451bc868",
   "metadata": {},
   "outputs": [],
   "source": [
    "# Initialize the MinMaxScaler\n",
    "scaler = MinMaxScaler()"
   ]
  },
  {
   "cell_type": "code",
   "execution_count": 23,
   "id": "b9b520df-e6c5-4dd4-a174-58b6548154ec",
   "metadata": {},
   "outputs": [],
   "source": [
    "#Fit and transform the RFM values using the scaler\n",
    "rfm_scaled = scaler.fit_transform(rfm_values)"
   ]
  },
  {
   "cell_type": "code",
   "execution_count": 24,
   "id": "3ed43991-89e7-4915-bac9-ed9cfcbe1339",
   "metadata": {},
   "outputs": [
    {
     "name": "stdout",
     "output_type": "stream",
     "text": [
      "      Normalized_Frequency  Normalized_Recency  Normalized_Monetary\n",
      "0                 1.000000            0.390285             0.002681\n",
      "1                 0.931704            0.083194             0.000000\n",
      "2                 0.681386            0.068677             0.018767\n",
      "3                 0.478928            1.000000             0.000000\n",
      "4                 0.445870            0.246790             0.061662\n",
      "...                    ...                 ...                  ...\n",
      "4358              0.003446            0.000558             0.959786\n",
      "4359              0.003204            0.011167             0.978552\n",
      "4360              0.002598            0.001117             0.123324\n",
      "4361              0.001359            0.007817             0.900804\n",
      "4362              0.000000            0.002233             0.994638\n",
      "\n",
      "[4363 rows x 3 columns]\n"
     ]
    }
   ],
   "source": [
    "#Convert the scaled values back into a DataFrame\n",
    "rfm_normalized = pd.DataFrame(rfm_scaled, columns=['Normalized_Frequency', 'Normalized_Recency', 'Normalized_Monetary'])\n",
    "print(rfm_normalized)"
   ]
  },
  {
   "cell_type": "code",
   "execution_count": 25,
   "id": "df74b127-559d-4937-ae99-f4cf37484338",
   "metadata": {},
   "outputs": [
    {
     "data": {
      "text/html": [
       "<div>\n",
       "<style scoped>\n",
       "    .dataframe tbody tr th:only-of-type {\n",
       "        vertical-align: middle;\n",
       "    }\n",
       "\n",
       "    .dataframe tbody tr th {\n",
       "        vertical-align: top;\n",
       "    }\n",
       "\n",
       "    .dataframe thead th {\n",
       "        text-align: right;\n",
       "    }\n",
       "</style>\n",
       "<table border=\"1\" class=\"dataframe\">\n",
       "  <thead>\n",
       "    <tr style=\"text-align: right;\">\n",
       "      <th></th>\n",
       "      <th>Normalized_Frequency</th>\n",
       "      <th>Normalized_Recency</th>\n",
       "      <th>Normalized_Monetary</th>\n",
       "    </tr>\n",
       "  </thead>\n",
       "  <tbody>\n",
       "    <tr>\n",
       "      <th>0</th>\n",
       "      <td>1.000000</td>\n",
       "      <td>0.390285</td>\n",
       "      <td>0.002681</td>\n",
       "    </tr>\n",
       "    <tr>\n",
       "      <th>1</th>\n",
       "      <td>0.931704</td>\n",
       "      <td>0.083194</td>\n",
       "      <td>0.000000</td>\n",
       "    </tr>\n",
       "    <tr>\n",
       "      <th>2</th>\n",
       "      <td>0.681386</td>\n",
       "      <td>0.068677</td>\n",
       "      <td>0.018767</td>\n",
       "    </tr>\n",
       "    <tr>\n",
       "      <th>3</th>\n",
       "      <td>0.478928</td>\n",
       "      <td>1.000000</td>\n",
       "      <td>0.000000</td>\n",
       "    </tr>\n",
       "    <tr>\n",
       "      <th>4</th>\n",
       "      <td>0.445870</td>\n",
       "      <td>0.246790</td>\n",
       "      <td>0.061662</td>\n",
       "    </tr>\n",
       "  </tbody>\n",
       "</table>\n",
       "</div>"
      ],
      "text/plain": [
       "   Normalized_Frequency  Normalized_Recency  Normalized_Monetary\n",
       "0              1.000000            0.390285             0.002681\n",
       "1              0.931704            0.083194             0.000000\n",
       "2              0.681386            0.068677             0.018767\n",
       "3              0.478928            1.000000             0.000000\n",
       "4              0.445870            0.246790             0.061662"
      ]
     },
     "execution_count": 25,
     "metadata": {},
     "output_type": "execute_result"
    }
   ],
   "source": [
    "rfm_normalized.head()"
   ]
  },
  {
   "cell_type": "markdown",
   "id": "ffc1cf94-505e-4dd9-8b16-27df4f4ba969",
   "metadata": {},
   "source": [
    "### Option 2 : Calculate the Range and Normalize the Range:\n",
    "(referance:https://www.geeksforgeeks.org/rfm-analysis-analysis-using-python/)\n",
    "- **Calculate the Range:** For each value in the 'Frequency' column, we find out how far it is from the smallest value in the column. This tells us how spread out the values are.\n",
    "- **Normalize the Range:** After calculating the range, we want to scale the values so they all fit within the same range. We do this by dividing each value by the total range of values in the column. This ensures that no matter what the original range was, the values will always fall between 0 and 1.\n"
   ]
  },
  {
   "cell_type": "code",
   "execution_count": 26,
   "id": "8751ed5b-00c6-449a-a7fe-2edf7e34e366",
   "metadata": {},
   "outputs": [],
   "source": [
    "#normalization for Monetary and Frequency\n",
    "\n",
    "rfm_table['Normalized_Monetary'] = (rfm_table.Monetary - rfm_table.Monetary.min())/(rfm_table.Monetary.max() - rfm_table.Monetary.min())\n",
    "rfm_table['Normalized_Frequency'] = (rfm_table.Frequency - rfm_table.Frequency.min())/(rfm_table.Frequency.max() - rfm_table.Frequency.min())\n",
    "\n",
    "#higher recency values indicate less desirable behavior so we subtract each value from the maximum value and divide by the negative range. \n",
    "\n",
    "rfm_table['Normalized_Recency'] = (rfm_table.Recency - rfm_table.Recency.max())/(rfm_table.Recency.min() - rfm_table.Recency.max())"
   ]
  },
  {
   "cell_type": "code",
   "execution_count": 27,
   "id": "15781ad1-7929-46a7-9430-0ed418958d28",
   "metadata": {},
   "outputs": [
    {
     "data": {
      "text/html": [
       "<div>\n",
       "<style scoped>\n",
       "    .dataframe tbody tr th:only-of-type {\n",
       "        vertical-align: middle;\n",
       "    }\n",
       "\n",
       "    .dataframe tbody tr th {\n",
       "        vertical-align: top;\n",
       "    }\n",
       "\n",
       "    .dataframe thead th {\n",
       "        text-align: right;\n",
       "    }\n",
       "</style>\n",
       "<table border=\"1\" class=\"dataframe\">\n",
       "  <thead>\n",
       "    <tr style=\"text-align: right;\">\n",
       "      <th></th>\n",
       "      <th>Customer_ID</th>\n",
       "      <th>Monetary</th>\n",
       "      <th>Frequency</th>\n",
       "      <th>Recency</th>\n",
       "      <th>Normalized_Monetary</th>\n",
       "      <th>Normalized_Frequency</th>\n",
       "      <th>Normalized_Recency</th>\n",
       "    </tr>\n",
       "  </thead>\n",
       "  <tbody>\n",
       "    <tr>\n",
       "      <th>0</th>\n",
       "      <td>u14646</td>\n",
       "      <td>278778.02</td>\n",
       "      <td>700</td>\n",
       "      <td>1</td>\n",
       "      <td>1.000000</td>\n",
       "      <td>0.390285</td>\n",
       "      <td>0.997319</td>\n",
       "    </tr>\n",
       "    <tr>\n",
       "      <th>1</th>\n",
       "      <td>u18102</td>\n",
       "      <td>259657.30</td>\n",
       "      <td>150</td>\n",
       "      <td>0</td>\n",
       "      <td>0.931704</td>\n",
       "      <td>0.083194</td>\n",
       "      <td>1.000000</td>\n",
       "    </tr>\n",
       "    <tr>\n",
       "      <th>2</th>\n",
       "      <td>u1745</td>\n",
       "      <td>189575.53</td>\n",
       "      <td>124</td>\n",
       "      <td>7</td>\n",
       "      <td>0.681386</td>\n",
       "      <td>0.068677</td>\n",
       "      <td>0.981233</td>\n",
       "    </tr>\n",
       "    <tr>\n",
       "      <th>3</th>\n",
       "      <td>u14911</td>\n",
       "      <td>132893.24</td>\n",
       "      <td>1792</td>\n",
       "      <td>0</td>\n",
       "      <td>0.478928</td>\n",
       "      <td>1.000000</td>\n",
       "      <td>1.000000</td>\n",
       "    </tr>\n",
       "    <tr>\n",
       "      <th>4</th>\n",
       "      <td>u12415</td>\n",
       "      <td>123638.18</td>\n",
       "      <td>443</td>\n",
       "      <td>23</td>\n",
       "      <td>0.445870</td>\n",
       "      <td>0.246790</td>\n",
       "      <td>0.938338</td>\n",
       "    </tr>\n",
       "  </tbody>\n",
       "</table>\n",
       "</div>"
      ],
      "text/plain": [
       "  Customer_ID   Monetary  Frequency  Recency  Normalized_Monetary  \\\n",
       "0      u14646  278778.02        700        1             1.000000   \n",
       "1      u18102  259657.30        150        0             0.931704   \n",
       "2       u1745  189575.53        124        7             0.681386   \n",
       "3      u14911  132893.24       1792        0             0.478928   \n",
       "4      u12415  123638.18        443       23             0.445870   \n",
       "\n",
       "   Normalized_Frequency  Normalized_Recency  \n",
       "0              0.390285            0.997319  \n",
       "1              0.083194            1.000000  \n",
       "2              0.068677            0.981233  \n",
       "3              1.000000            1.000000  \n",
       "4              0.246790            0.938338  "
      ]
     },
     "execution_count": 27,
     "metadata": {},
     "output_type": "execute_result"
    }
   ],
   "source": [
    "rfm_table.head()"
   ]
  },
  {
   "cell_type": "markdown",
   "id": "9e60dfff-1bbb-419a-8575-b5a73cda6562",
   "metadata": {},
   "source": [
    "## 3.Calculating RFM score\n",
    "- We need to assign weights to the normalized rank values for Recency (R), Frequency (F), and Monetary (M).\n",
    "Each weight represents the relative importance of that RFM component in determining the overall RFM score.\n",
    "- Deciding the weights for each RFM component involves determining the relative importance of these components in the context of your business objectives and customer behavior.\n",
    "For example,\n",
    "   - if acquiring new customers is a top priority, you might assign a higher weight to Frequency to emphasize customer loyalty and retention\n",
    "   - in subscription-based businesses, Recency might be more critical for retaining customers.\n",
    "   - E-commerce retailers often track the monetary value of each customer's transactions to identify high-value customers, tailor marketing strategies, and optimize pricing and product offerings.\n",
    "- For this project it is assumed that maximizing revenue and identifying high-value customers are primary goals so I assign a higher weight to Monetary"
   ]
  },
  {
   "cell_type": "code",
   "execution_count": 28,
   "id": "73834eab-7ea9-4b24-aefd-36264e237152",
   "metadata": {},
   "outputs": [
    {
     "data": {
      "text/html": [
       "<div>\n",
       "<style scoped>\n",
       "    .dataframe tbody tr th:only-of-type {\n",
       "        vertical-align: middle;\n",
       "    }\n",
       "\n",
       "    .dataframe tbody tr th {\n",
       "        vertical-align: top;\n",
       "    }\n",
       "\n",
       "    .dataframe thead th {\n",
       "        text-align: right;\n",
       "    }\n",
       "</style>\n",
       "<table border=\"1\" class=\"dataframe\">\n",
       "  <thead>\n",
       "    <tr style=\"text-align: right;\">\n",
       "      <th></th>\n",
       "      <th>Customer_ID</th>\n",
       "      <th>RFM_Score</th>\n",
       "    </tr>\n",
       "  </thead>\n",
       "  <tbody>\n",
       "    <tr>\n",
       "      <th>0</th>\n",
       "      <td>u14646</td>\n",
       "      <td>0.85</td>\n",
       "    </tr>\n",
       "    <tr>\n",
       "      <th>1</th>\n",
       "      <td>u18102</td>\n",
       "      <td>0.73</td>\n",
       "    </tr>\n",
       "    <tr>\n",
       "      <th>2</th>\n",
       "      <td>u1745</td>\n",
       "      <td>0.57</td>\n",
       "    </tr>\n",
       "    <tr>\n",
       "      <th>3</th>\n",
       "      <td>u14911</td>\n",
       "      <td>0.69</td>\n",
       "    </tr>\n",
       "    <tr>\n",
       "      <th>4</th>\n",
       "      <td>u12415</td>\n",
       "      <td>0.47</td>\n",
       "    </tr>\n",
       "    <tr>\n",
       "      <th>5</th>\n",
       "      <td>u14156</td>\n",
       "      <td>0.49</td>\n",
       "    </tr>\n",
       "    <tr>\n",
       "      <th>6</th>\n",
       "      <td>u17511</td>\n",
       "      <td>0.41</td>\n",
       "    </tr>\n",
       "    <tr>\n",
       "      <th>7</th>\n",
       "      <td>u16684</td>\n",
       "      <td>0.31</td>\n",
       "    </tr>\n",
       "    <tr>\n",
       "      <th>8</th>\n",
       "      <td>u14096</td>\n",
       "      <td>0.45</td>\n",
       "    </tr>\n",
       "    <tr>\n",
       "      <th>9</th>\n",
       "      <td>u13694</td>\n",
       "      <td>0.34</td>\n",
       "    </tr>\n",
       "  </tbody>\n",
       "</table>\n",
       "</div>"
      ],
      "text/plain": [
       "  Customer_ID  RFM_Score\n",
       "0      u14646       0.85\n",
       "1      u18102       0.73\n",
       "2       u1745       0.57\n",
       "3      u14911       0.69\n",
       "4      u12415       0.47\n",
       "5      u14156       0.49\n",
       "6      u17511       0.41\n",
       "7      u16684       0.31\n",
       "8      u14096       0.45\n",
       "9      u13694       0.34"
      ]
     },
     "execution_count": 28,
     "metadata": {},
     "output_type": "execute_result"
    }
   ],
   "source": [
    "rfm_table['RFM_Score'] = 0.15*rfm_table['Normalized_Recency']+0.25 * \\\n",
    "    rfm_table['Normalized_Frequency']+0.6*rfm_table['Normalized_Monetary']\n",
    "rfm_table = rfm_table.round(2)\n",
    "rfm_table[['Customer_ID', 'RFM_Score']].head(10)"
   ]
  },
  {
   "cell_type": "code",
   "execution_count": 29,
   "id": "8a35dfba-848d-495b-9183-fea7a126d492",
   "metadata": {},
   "outputs": [
    {
     "data": {
      "text/html": [
       "<div>\n",
       "<style scoped>\n",
       "    .dataframe tbody tr th:only-of-type {\n",
       "        vertical-align: middle;\n",
       "    }\n",
       "\n",
       "    .dataframe tbody tr th {\n",
       "        vertical-align: top;\n",
       "    }\n",
       "\n",
       "    .dataframe thead th {\n",
       "        text-align: right;\n",
       "    }\n",
       "</style>\n",
       "<table border=\"1\" class=\"dataframe\">\n",
       "  <thead>\n",
       "    <tr style=\"text-align: right;\">\n",
       "      <th></th>\n",
       "      <th>Monetary</th>\n",
       "      <th>Frequency</th>\n",
       "      <th>Recency</th>\n",
       "      <th>Normalized_Monetary</th>\n",
       "      <th>Normalized_Frequency</th>\n",
       "      <th>Normalized_Recency</th>\n",
       "      <th>RFM_Score</th>\n",
       "    </tr>\n",
       "  </thead>\n",
       "  <tbody>\n",
       "    <tr>\n",
       "      <th>count</th>\n",
       "      <td>4363.000000</td>\n",
       "      <td>4363.000000</td>\n",
       "      <td>4363.000000</td>\n",
       "      <td>4363.000000</td>\n",
       "      <td>4363.000000</td>\n",
       "      <td>4363.000000</td>\n",
       "      <td>4363.000000</td>\n",
       "    </tr>\n",
       "    <tr>\n",
       "      <th>mean</th>\n",
       "      <td>1898.571497</td>\n",
       "      <td>61.179234</td>\n",
       "      <td>91.154710</td>\n",
       "      <td>0.012026</td>\n",
       "      <td>0.033681</td>\n",
       "      <td>0.755432</td>\n",
       "      <td>0.128357</td>\n",
       "    </tr>\n",
       "    <tr>\n",
       "      <th>std</th>\n",
       "      <td>8300.366043</td>\n",
       "      <td>85.371220</td>\n",
       "      <td>100.960982</td>\n",
       "      <td>0.029697</td>\n",
       "      <td>0.047773</td>\n",
       "      <td>0.270558</td>\n",
       "      <td>0.052619</td>\n",
       "    </tr>\n",
       "    <tr>\n",
       "      <th>min</th>\n",
       "      <td>-1192.200000</td>\n",
       "      <td>1.000000</td>\n",
       "      <td>0.000000</td>\n",
       "      <td>0.000000</td>\n",
       "      <td>0.000000</td>\n",
       "      <td>-0.000000</td>\n",
       "      <td>0.000000</td>\n",
       "    </tr>\n",
       "    <tr>\n",
       "      <th>25%</th>\n",
       "      <td>292.585000</td>\n",
       "      <td>15.000000</td>\n",
       "      <td>16.000000</td>\n",
       "      <td>0.010000</td>\n",
       "      <td>0.010000</td>\n",
       "      <td>0.620000</td>\n",
       "      <td>0.100000</td>\n",
       "    </tr>\n",
       "    <tr>\n",
       "      <th>50%</th>\n",
       "      <td>642.770000</td>\n",
       "      <td>35.000000</td>\n",
       "      <td>49.000000</td>\n",
       "      <td>0.010000</td>\n",
       "      <td>0.020000</td>\n",
       "      <td>0.870000</td>\n",
       "      <td>0.140000</td>\n",
       "    </tr>\n",
       "    <tr>\n",
       "      <th>75%</th>\n",
       "      <td>1584.030000</td>\n",
       "      <td>77.000000</td>\n",
       "      <td>142.000000</td>\n",
       "      <td>0.010000</td>\n",
       "      <td>0.040000</td>\n",
       "      <td>0.960000</td>\n",
       "      <td>0.160000</td>\n",
       "    </tr>\n",
       "    <tr>\n",
       "      <th>max</th>\n",
       "      <td>278778.020000</td>\n",
       "      <td>1792.000000</td>\n",
       "      <td>373.000000</td>\n",
       "      <td>1.000000</td>\n",
       "      <td>1.000000</td>\n",
       "      <td>1.000000</td>\n",
       "      <td>0.850000</td>\n",
       "    </tr>\n",
       "  </tbody>\n",
       "</table>\n",
       "</div>"
      ],
      "text/plain": [
       "            Monetary    Frequency      Recency  Normalized_Monetary  \\\n",
       "count    4363.000000  4363.000000  4363.000000          4363.000000   \n",
       "mean     1898.571497    61.179234    91.154710             0.012026   \n",
       "std      8300.366043    85.371220   100.960982             0.029697   \n",
       "min     -1192.200000     1.000000     0.000000             0.000000   \n",
       "25%       292.585000    15.000000    16.000000             0.010000   \n",
       "50%       642.770000    35.000000    49.000000             0.010000   \n",
       "75%      1584.030000    77.000000   142.000000             0.010000   \n",
       "max    278778.020000  1792.000000   373.000000             1.000000   \n",
       "\n",
       "       Normalized_Frequency  Normalized_Recency    RFM_Score  \n",
       "count           4363.000000         4363.000000  4363.000000  \n",
       "mean               0.033681            0.755432     0.128357  \n",
       "std                0.047773            0.270558     0.052619  \n",
       "min                0.000000           -0.000000     0.000000  \n",
       "25%                0.010000            0.620000     0.100000  \n",
       "50%                0.020000            0.870000     0.140000  \n",
       "75%                0.040000            0.960000     0.160000  \n",
       "max                1.000000            1.000000     0.850000  "
      ]
     },
     "execution_count": 29,
     "metadata": {},
     "output_type": "execute_result"
    }
   ],
   "source": [
    "rfm_table.describe()"
   ]
  },
  {
   "cell_type": "markdown",
   "id": "6fbb9153-e5a4-4664-80ea-f53ea9279266",
   "metadata": {},
   "source": [
    "## 4. Customer Segmentation\n",
    "- adjust tresholds to create segments that match your business goals"
   ]
  },
  {
   "cell_type": "code",
   "execution_count": 30,
   "id": "a2665d8b-2818-4b26-8ab5-7d245c86d3c8",
   "metadata": {},
   "outputs": [],
   "source": [
    "def customer_segment(i):\n",
    "    if i < 0.14:\n",
    "        return 'low value'\n",
    "    elif i>=0.14 and i<0.20:\n",
    "        return 'mid value' \n",
    "    else:\n",
    "        return 'high value'\n",
    "        "
   ]
  },
  {
   "cell_type": "code",
   "execution_count": 31,
   "id": "5cba3f12-feb4-4039-824b-0f559a9be9b8",
   "metadata": {},
   "outputs": [],
   "source": [
    "rfm_table['customer_segment']=rfm_table['RFM_Score'].apply(customer_segment)"
   ]
  },
  {
   "cell_type": "code",
   "execution_count": 32,
   "id": "c97fdc59-d1b1-45ff-8635-d42e7ebc677e",
   "metadata": {},
   "outputs": [
    {
     "data": {
      "text/html": [
       "<div>\n",
       "<style scoped>\n",
       "    .dataframe tbody tr th:only-of-type {\n",
       "        vertical-align: middle;\n",
       "    }\n",
       "\n",
       "    .dataframe tbody tr th {\n",
       "        vertical-align: top;\n",
       "    }\n",
       "\n",
       "    .dataframe thead th {\n",
       "        text-align: right;\n",
       "    }\n",
       "</style>\n",
       "<table border=\"1\" class=\"dataframe\">\n",
       "  <thead>\n",
       "    <tr style=\"text-align: right;\">\n",
       "      <th></th>\n",
       "      <th>Customer_ID</th>\n",
       "      <th>Monetary</th>\n",
       "      <th>Frequency</th>\n",
       "      <th>Recency</th>\n",
       "      <th>Normalized_Monetary</th>\n",
       "      <th>Normalized_Frequency</th>\n",
       "      <th>Normalized_Recency</th>\n",
       "      <th>RFM_Score</th>\n",
       "      <th>customer_segment</th>\n",
       "    </tr>\n",
       "  </thead>\n",
       "  <tbody>\n",
       "    <tr>\n",
       "      <th>0</th>\n",
       "      <td>u14646</td>\n",
       "      <td>278778.02</td>\n",
       "      <td>700</td>\n",
       "      <td>1</td>\n",
       "      <td>1.00</td>\n",
       "      <td>0.39</td>\n",
       "      <td>1.00</td>\n",
       "      <td>0.85</td>\n",
       "      <td>high value</td>\n",
       "    </tr>\n",
       "    <tr>\n",
       "      <th>1</th>\n",
       "      <td>u18102</td>\n",
       "      <td>259657.30</td>\n",
       "      <td>150</td>\n",
       "      <td>0</td>\n",
       "      <td>0.93</td>\n",
       "      <td>0.08</td>\n",
       "      <td>1.00</td>\n",
       "      <td>0.73</td>\n",
       "      <td>high value</td>\n",
       "    </tr>\n",
       "    <tr>\n",
       "      <th>2</th>\n",
       "      <td>u1745</td>\n",
       "      <td>189575.53</td>\n",
       "      <td>124</td>\n",
       "      <td>7</td>\n",
       "      <td>0.68</td>\n",
       "      <td>0.07</td>\n",
       "      <td>0.98</td>\n",
       "      <td>0.57</td>\n",
       "      <td>high value</td>\n",
       "    </tr>\n",
       "    <tr>\n",
       "      <th>3</th>\n",
       "      <td>u14911</td>\n",
       "      <td>132893.24</td>\n",
       "      <td>1792</td>\n",
       "      <td>0</td>\n",
       "      <td>0.48</td>\n",
       "      <td>1.00</td>\n",
       "      <td>1.00</td>\n",
       "      <td>0.69</td>\n",
       "      <td>high value</td>\n",
       "    </tr>\n",
       "    <tr>\n",
       "      <th>4</th>\n",
       "      <td>u12415</td>\n",
       "      <td>123638.18</td>\n",
       "      <td>443</td>\n",
       "      <td>23</td>\n",
       "      <td>0.45</td>\n",
       "      <td>0.25</td>\n",
       "      <td>0.94</td>\n",
       "      <td>0.47</td>\n",
       "      <td>high value</td>\n",
       "    </tr>\n",
       "    <tr>\n",
       "      <th>...</th>\n",
       "      <td>...</td>\n",
       "      <td>...</td>\n",
       "      <td>...</td>\n",
       "      <td>...</td>\n",
       "      <td>...</td>\n",
       "      <td>...</td>\n",
       "      <td>...</td>\n",
       "      <td>...</td>\n",
       "      <td>...</td>\n",
       "    </tr>\n",
       "    <tr>\n",
       "      <th>4358</th>\n",
       "      <td>u12666</td>\n",
       "      <td>-227.44</td>\n",
       "      <td>2</td>\n",
       "      <td>358</td>\n",
       "      <td>0.00</td>\n",
       "      <td>0.00</td>\n",
       "      <td>0.04</td>\n",
       "      <td>0.01</td>\n",
       "      <td>low value</td>\n",
       "    </tr>\n",
       "    <tr>\n",
       "      <th>4359</th>\n",
       "      <td>u16252</td>\n",
       "      <td>-295.09</td>\n",
       "      <td>21</td>\n",
       "      <td>365</td>\n",
       "      <td>0.00</td>\n",
       "      <td>0.01</td>\n",
       "      <td>0.02</td>\n",
       "      <td>0.01</td>\n",
       "      <td>low value</td>\n",
       "    </tr>\n",
       "    <tr>\n",
       "      <th>4360</th>\n",
       "      <td>u16742</td>\n",
       "      <td>-464.90</td>\n",
       "      <td>3</td>\n",
       "      <td>46</td>\n",
       "      <td>0.00</td>\n",
       "      <td>0.00</td>\n",
       "      <td>0.88</td>\n",
       "      <td>0.13</td>\n",
       "      <td>low value</td>\n",
       "    </tr>\n",
       "    <tr>\n",
       "      <th>4361</th>\n",
       "      <td>u15823</td>\n",
       "      <td>-811.86</td>\n",
       "      <td>15</td>\n",
       "      <td>336</td>\n",
       "      <td>0.00</td>\n",
       "      <td>0.01</td>\n",
       "      <td>0.10</td>\n",
       "      <td>0.02</td>\n",
       "      <td>low value</td>\n",
       "    </tr>\n",
       "    <tr>\n",
       "      <th>4362</th>\n",
       "      <td>u14213</td>\n",
       "      <td>-1192.20</td>\n",
       "      <td>5</td>\n",
       "      <td>371</td>\n",
       "      <td>0.00</td>\n",
       "      <td>0.00</td>\n",
       "      <td>0.01</td>\n",
       "      <td>0.00</td>\n",
       "      <td>low value</td>\n",
       "    </tr>\n",
       "  </tbody>\n",
       "</table>\n",
       "<p>4363 rows × 9 columns</p>\n",
       "</div>"
      ],
      "text/plain": [
       "     Customer_ID   Monetary  Frequency  Recency  Normalized_Monetary  \\\n",
       "0         u14646  278778.02        700        1                 1.00   \n",
       "1         u18102  259657.30        150        0                 0.93   \n",
       "2          u1745  189575.53        124        7                 0.68   \n",
       "3         u14911  132893.24       1792        0                 0.48   \n",
       "4         u12415  123638.18        443       23                 0.45   \n",
       "...          ...        ...        ...      ...                  ...   \n",
       "4358      u12666    -227.44          2      358                 0.00   \n",
       "4359      u16252    -295.09         21      365                 0.00   \n",
       "4360      u16742    -464.90          3       46                 0.00   \n",
       "4361      u15823    -811.86         15      336                 0.00   \n",
       "4362      u14213   -1192.20          5      371                 0.00   \n",
       "\n",
       "      Normalized_Frequency  Normalized_Recency  RFM_Score customer_segment  \n",
       "0                     0.39                1.00       0.85       high value  \n",
       "1                     0.08                1.00       0.73       high value  \n",
       "2                     0.07                0.98       0.57       high value  \n",
       "3                     1.00                1.00       0.69       high value  \n",
       "4                     0.25                0.94       0.47       high value  \n",
       "...                    ...                 ...        ...              ...  \n",
       "4358                  0.00                0.04       0.01        low value  \n",
       "4359                  0.01                0.02       0.01        low value  \n",
       "4360                  0.00                0.88       0.13        low value  \n",
       "4361                  0.01                0.10       0.02        low value  \n",
       "4362                  0.00                0.01       0.00        low value  \n",
       "\n",
       "[4363 rows x 9 columns]"
      ]
     },
     "execution_count": 32,
     "metadata": {},
     "output_type": "execute_result"
    }
   ],
   "source": [
    "rfm_table"
   ]
  },
  {
   "cell_type": "code",
   "execution_count": 33,
   "id": "aab604c8-e24d-4999-b9c5-3386c6f90b9d",
   "metadata": {},
   "outputs": [
    {
     "data": {
      "text/plain": [
       "customer_segment\n",
       "mid value     2317\n",
       "low value     1894\n",
       "high value     152\n",
       "Name: count, dtype: int64"
      ]
     },
     "execution_count": 33,
     "metadata": {},
     "output_type": "execute_result"
    }
   ],
   "source": [
    "#check how many customers are in each segment\n",
    "rfm_table.customer_segment.value_counts()"
   ]
  },
  {
   "cell_type": "code",
   "execution_count": 34,
   "id": "6042ed8f-b21e-4394-9a13-502b49e715ef",
   "metadata": {},
   "outputs": [
    {
     "data": {
      "text/html": [
       "<div>\n",
       "<style scoped>\n",
       "    .dataframe tbody tr th:only-of-type {\n",
       "        vertical-align: middle;\n",
       "    }\n",
       "\n",
       "    .dataframe tbody tr th {\n",
       "        vertical-align: top;\n",
       "    }\n",
       "\n",
       "    .dataframe thead th {\n",
       "        text-align: right;\n",
       "    }\n",
       "</style>\n",
       "<table border=\"1\" class=\"dataframe\">\n",
       "  <thead>\n",
       "    <tr style=\"text-align: right;\">\n",
       "      <th></th>\n",
       "      <th>Monetary</th>\n",
       "      <th>Frequency</th>\n",
       "      <th>Recency</th>\n",
       "      <th>Normalized_Monetary</th>\n",
       "      <th>Normalized_Frequency</th>\n",
       "      <th>Normalized_Recency</th>\n",
       "      <th>RFM_Score</th>\n",
       "    </tr>\n",
       "  </thead>\n",
       "  <tbody>\n",
       "    <tr>\n",
       "      <th>count</th>\n",
       "      <td>152.000000</td>\n",
       "      <td>152.000000</td>\n",
       "      <td>152.000000</td>\n",
       "      <td>152.000000</td>\n",
       "      <td>152.000000</td>\n",
       "      <td>152.000000</td>\n",
       "      <td>152.000000</td>\n",
       "    </tr>\n",
       "    <tr>\n",
       "      <th>mean</th>\n",
       "      <td>21768.690592</td>\n",
       "      <td>319.440789</td>\n",
       "      <td>6.894737</td>\n",
       "      <td>0.081711</td>\n",
       "      <td>0.177697</td>\n",
       "      <td>0.981184</td>\n",
       "      <td>0.241053</td>\n",
       "    </tr>\n",
       "    <tr>\n",
       "      <th>std</th>\n",
       "      <td>38700.905765</td>\n",
       "      <td>253.299753</td>\n",
       "      <td>8.358806</td>\n",
       "      <td>0.138367</td>\n",
       "      <td>0.141424</td>\n",
       "      <td>0.022225</td>\n",
       "      <td>0.096400</td>\n",
       "    </tr>\n",
       "    <tr>\n",
       "      <th>min</th>\n",
       "      <td>1070.470000</td>\n",
       "      <td>9.000000</td>\n",
       "      <td>0.000000</td>\n",
       "      <td>0.010000</td>\n",
       "      <td>0.000000</td>\n",
       "      <td>0.880000</td>\n",
       "      <td>0.200000</td>\n",
       "    </tr>\n",
       "    <tr>\n",
       "      <th>25%</th>\n",
       "      <td>5211.177500</td>\n",
       "      <td>208.750000</td>\n",
       "      <td>1.000000</td>\n",
       "      <td>0.020000</td>\n",
       "      <td>0.120000</td>\n",
       "      <td>0.970000</td>\n",
       "      <td>0.200000</td>\n",
       "    </tr>\n",
       "    <tr>\n",
       "      <th>50%</th>\n",
       "      <td>9651.495000</td>\n",
       "      <td>287.000000</td>\n",
       "      <td>3.000000</td>\n",
       "      <td>0.040000</td>\n",
       "      <td>0.160000</td>\n",
       "      <td>0.990000</td>\n",
       "      <td>0.210000</td>\n",
       "    </tr>\n",
       "    <tr>\n",
       "      <th>75%</th>\n",
       "      <td>19753.467500</td>\n",
       "      <td>365.500000</td>\n",
       "      <td>10.000000</td>\n",
       "      <td>0.072500</td>\n",
       "      <td>0.200000</td>\n",
       "      <td>1.000000</td>\n",
       "      <td>0.230000</td>\n",
       "    </tr>\n",
       "    <tr>\n",
       "      <th>max</th>\n",
       "      <td>278778.020000</td>\n",
       "      <td>1792.000000</td>\n",
       "      <td>46.000000</td>\n",
       "      <td>1.000000</td>\n",
       "      <td>1.000000</td>\n",
       "      <td>1.000000</td>\n",
       "      <td>0.850000</td>\n",
       "    </tr>\n",
       "  </tbody>\n",
       "</table>\n",
       "</div>"
      ],
      "text/plain": [
       "            Monetary    Frequency     Recency  Normalized_Monetary  \\\n",
       "count     152.000000   152.000000  152.000000           152.000000   \n",
       "mean    21768.690592   319.440789    6.894737             0.081711   \n",
       "std     38700.905765   253.299753    8.358806             0.138367   \n",
       "min      1070.470000     9.000000    0.000000             0.010000   \n",
       "25%      5211.177500   208.750000    1.000000             0.020000   \n",
       "50%      9651.495000   287.000000    3.000000             0.040000   \n",
       "75%     19753.467500   365.500000   10.000000             0.072500   \n",
       "max    278778.020000  1792.000000   46.000000             1.000000   \n",
       "\n",
       "       Normalized_Frequency  Normalized_Recency   RFM_Score  \n",
       "count            152.000000          152.000000  152.000000  \n",
       "mean               0.177697            0.981184    0.241053  \n",
       "std                0.141424            0.022225    0.096400  \n",
       "min                0.000000            0.880000    0.200000  \n",
       "25%                0.120000            0.970000    0.200000  \n",
       "50%                0.160000            0.990000    0.210000  \n",
       "75%                0.200000            1.000000    0.230000  \n",
       "max                1.000000            1.000000    0.850000  "
      ]
     },
     "execution_count": 34,
     "metadata": {},
     "output_type": "execute_result"
    }
   ],
   "source": [
    "#Define the 'High Value' segment based on your segmentation criteria\n",
    "\n",
    "rfm_table[rfm_table.customer_segment=='high value'].describe()"
   ]
  }
 ],
 "metadata": {
  "kernelspec": {
   "display_name": "Python 3 (ipykernel)",
   "language": "python",
   "name": "python3"
  },
  "language_info": {
   "codemirror_mode": {
    "name": "ipython",
    "version": 3
   },
   "file_extension": ".py",
   "mimetype": "text/x-python",
   "name": "python",
   "nbconvert_exporter": "python",
   "pygments_lexer": "ipython3",
   "version": "3.12.0"
  }
 },
 "nbformat": 4,
 "nbformat_minor": 5
}
